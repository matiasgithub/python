{
 "cells": [
  {
   "cell_type": "markdown",
   "metadata": {},
   "source": [
    "## Operadores - Actividad"
   ]
  },
  {
   "cell_type": "markdown",
   "metadata": {},
   "source": [
    "1) Pedir al usuario dos números y mostrar por pantalla la suma de ellos."
   ]
  },
  {
   "cell_type": "code",
   "execution_count": 16,
   "metadata": {},
   "outputs": [
    {
     "name": "stdout",
     "output_type": "stream",
     "text": [
      "La suma es:  20\n"
     ]
    }
   ],
   "source": [
    "sumando_1 = input(\"Ingrese un numero\")\n",
    "sumando_2 = input(\"Ingrese otro numero\")\n",
    "suma = int(sumando_1)+ int(sumando_2)\n",
    "print(\"La suma es: \", suma)"
   ]
  },
  {
   "cell_type": "markdown",
   "metadata": {},
   "source": [
    "2) Calcular el perímetro y área de un rectángulo dada su base y su altura (el usuario debe introducir por teclado los dos valores)."
   ]
  },
  {
   "cell_type": "code",
   "execution_count": 17,
   "metadata": {},
   "outputs": [
    {
     "name": "stdout",
     "output_type": "stream",
     "text": [
      "El perímetro del renctángulo es: 104\n",
      "El perímetro del renctángulo es: 100\n"
     ]
    }
   ],
   "source": [
    "base = input(\"ingrese base del rectangulo\")\n",
    "altura = input(\"ingrese altura del rectangulo\")\n",
    "perimetro = int(base)*2 + int(altura)*2 \n",
    "area = int(base)*int(altura)\n",
    "print(f\"El perímetro del renctángulo es: {perimetro}\" )\n",
    "print(f\"El perímetro del renctángulo es: {area}\" )"
   ]
  },
  {
   "cell_type": "markdown",
   "metadata": {},
   "source": [
    "3) Calcular el resultado de elevar un número entero a otro número entero (por ejemplo, 5 elevado a 3 = 5^3 = 5*5*5)."
   ]
  },
  {
   "cell_type": "code",
   "execution_count": 18,
   "metadata": {},
   "outputs": [
    {
     "name": "stdout",
     "output_type": "stream",
     "text": [
      "8\n"
     ]
    }
   ],
   "source": [
    "print(2**3)"
   ]
  },
  {
   "cell_type": "markdown",
   "metadata": {},
   "source": [
    "4) Escribe un programa que convierta grados Celsius a grados Fahrenheit utilizando la fórmula: **F = (C * 9/5) + 32**"
   ]
  },
  {
   "cell_type": "code",
   "execution_count": 19,
   "metadata": {},
   "outputs": [
    {
     "name": "stdout",
     "output_type": "stream",
     "text": [
      "Se corresponden a 122.0 grados Fahrenheit\n"
     ]
    }
   ],
   "source": [
    "grados_celsius = input(\"Ingrese los grados Celsius\")\n",
    "grados_fahrenheit = (int(grados_celsius)*9/5) + 32 \n",
    "print(f\"Se corresponden a {grados_fahrenheit} grados Fahrenheit\")"
   ]
  },
  {
   "cell_type": "markdown",
   "metadata": {},
   "source": [
    "5) Pedir al usuario su edad y mostrar por pantalla si es mayor de edad o no. (Mayor de edad >= 18)"
   ]
  },
  {
   "cell_type": "code",
   "execution_count": 26,
   "metadata": {},
   "outputs": [
    {
     "name": "stdout",
     "output_type": "stream",
     "text": [
      "Ud es mayor de edad\n"
     ]
    }
   ],
   "source": [
    "edad = int(input(\"Ingrese su edad\"))\n",
    "print(\"Ud es mayor de edad\") if edad >= 18 else print(\"Ud es menor de edad\")"
   ]
  },
  {
   "cell_type": "markdown",
   "metadata": {},
   "source": [
    "6) Comprobar si el numero ingresado por el usuario es par o impar."
   ]
  },
  {
   "cell_type": "code",
   "execution_count": 29,
   "metadata": {},
   "outputs": [
    {
     "name": "stdout",
     "output_type": "stream",
     "text": [
      "17 es un número impar\n"
     ]
    }
   ],
   "source": [
    "entero = input(\"Ingrese un valor entero\")\n",
    "print(f\"{int(entero)} es un número par\") if int(entero) % 2 == 0 else print(f\"{entero} es un número impar\") "
   ]
  },
  {
   "cell_type": "markdown",
   "metadata": {},
   "source": [
    "7) Pedir al usuario que ingrese su dirección email y luego mostrar un mensaje indicando si la dirección es válida o no. Una dirección se considerará válida si contiene el símbolo \"@\"."
   ]
  },
  {
   "cell_type": "code",
   "execution_count": 31,
   "metadata": {},
   "outputs": [
    {
     "name": "stdout",
     "output_type": "stream",
     "text": [
      "es valido\n"
     ]
    }
   ],
   "source": [
    "email = input(\"Ingrese su email\")\n",
    "print(\"es valido\") if email.find(\"@\")!= -1 else print(\"es inválido\")"
   ]
  },
  {
   "cell_type": "markdown",
   "metadata": {},
   "source": [
    "8) Dado un número de dos cifras, diseñe un algoritmo que permita obtener el número invertido. Ejemplo, si se introduce 23 que muestre 32. (Recordar que las cadenas pueden tratarse como listas de caracteres)."
   ]
  },
  {
   "cell_type": "code",
   "execution_count": 4,
   "metadata": {},
   "outputs": [
    {
     "name": "stdout",
     "output_type": "stream",
     "text": [
      "El número invertido es: 31\n"
     ]
    }
   ],
   "source": [
    "numero = input(\"Ingresa un número de dos cifras: \")\n",
    "numero_invertido = numero[::-1]\n",
    "print(\"El número invertido es:\", numero_invertido)"
   ]
  },
  {
   "cell_type": "markdown",
   "metadata": {},
   "source": [
    "9) Crea un programa que pida al usuario dos números y muestre True si ambos son mayores que 10."
   ]
  },
  {
   "cell_type": "code",
   "execution_count": 9,
   "metadata": {},
   "outputs": [
    {
     "name": "stdout",
     "output_type": "stream",
     "text": [
      "True\n"
     ]
    }
   ],
   "source": [
    "numero_1 = float(input(\"Ingrese un número\"))\n",
    "numero_2 = float(input(\"Ingrese otro número\"))\n",
    "print(numero_1 > 10 and numero_2 > 10 )"
   ]
  },
  {
   "cell_type": "markdown",
   "metadata": {},
   "source": [
    "10) Escribe un programa que verifique si un número ingresado por el usuario es divisible por 3 y por 5."
   ]
  },
  {
   "cell_type": "code",
   "execution_count": 13,
   "metadata": {},
   "outputs": [
    {
     "name": "stdout",
     "output_type": "stream",
     "text": [
      "El número es 30 es divisible por 3 y por 5\n"
     ]
    }
   ],
   "source": [
    "numero_divisible = int(input(\"Ingrese un número\"))\n",
    "print(f\"El número es {numero_divisible} es divisible por 3 y por 5\") if numero_divisible % 3 == 0 and numero_divisible % 5 == 0 else print(f\"El número es {numero_divisible} no es divisible por 3 y por 5\")"
   ]
  },
  {
   "cell_type": "markdown",
   "metadata": {},
   "source": [
    "11) Utilizando la información del punto 5, preguntar al usuario si posee carnet de conducir, luego verificar si puede conducir un automóvil."
   ]
  },
  {
   "cell_type": "code",
   "execution_count": 31,
   "metadata": {},
   "outputs": [
    {
     "name": "stdout",
     "output_type": "stream",
     "text": [
      "Usted puede conducir.\n"
     ]
    }
   ],
   "source": [
    "if edad >= 18:    \n",
    "    tiene_carnet = input(\"¿Tiene carnet de conducir? (Si/No): \").lower()\n",
    "    \n",
    "    if tiene_carnet == \"si\":\n",
    "        print(\"Usted puede conducir.\")\n",
    "    else:\n",
    "        print(\"Usted es mayor de edad pero no tiene carnet de conducir.\")\n",
    "else:\n",
    "    print(\"Usted es menor de edad y no puede conducir.\")"
   ]
  },
  {
   "cell_type": "markdown",
   "metadata": {},
   "source": [
    "12) Pide al usuario un número y verifica si es positivo y no es mayor que 100."
   ]
  },
  {
   "cell_type": "code",
   "execution_count": 36,
   "metadata": {},
   "outputs": [
    {
     "name": "stdout",
     "output_type": "stream",
     "text": [
      "No es positivo o no es menor que 100\n"
     ]
    }
   ],
   "source": [
    "numero_3 = float(input(\"Ingrese un número\"))\n",
    "print(f\"El número {numero_3} es positivo y menor que 100\") if (numero_3 > 0 and numero_3 <= 100 ) else print(\"No es positivo o no es menor que 100\")"
   ]
  },
  {
   "cell_type": "markdown",
   "metadata": {},
   "source": [
    "13) Crear un programa que valide si un número ingresado por el usuario es par y mayor que 20."
   ]
  },
  {
   "cell_type": "code",
   "execution_count": 39,
   "metadata": {},
   "outputs": [
    {
     "name": "stdout",
     "output_type": "stream",
     "text": [
      "El número ingresado es par y mayor que 20\n"
     ]
    }
   ],
   "source": [
    "numero_4 = int(input(\"Ingrese un número: \"))\n",
    "print(\"El número ingresado es par y mayor que 20\") if (numero_4 % 2 == 0 and numero_4 >= 20) else print(\"El número ingresado no es par o no es mayor que 20\") "
   ]
  },
  {
   "cell_type": "markdown",
   "metadata": {},
   "source": [
    "14) Dada la variable **numero = 5**, realizar la operación necesaria para que número sea igual a 8. Luego imprimir en pantalla el nuevo valor de número y realizar una nueva operación para que el valor de número sea igual a 4 y mostrar en pantalla el nuevo valor."
   ]
  },
  {
   "cell_type": "code",
   "execution_count": 41,
   "metadata": {},
   "outputs": [
    {
     "name": "stdout",
     "output_type": "stream",
     "text": [
      "numero vale: 8\n",
      "numero vale: 4\n"
     ]
    }
   ],
   "source": [
    "numero = 5\n",
    "numero = numero + 3\n",
    "print(f\"numero ahora vale: {numero}\")\n",
    "numero = numero - 4 \n",
    "print(f\"numero ahora vale: {numero}\")"
   ]
  },
  {
   "cell_type": "markdown",
   "metadata": {},
   "source": [
    "15) Dadas las variables altura = \"10\" y base = 5, calcular el área de un triángulo y mostrar el resultado en pantalla. ¿Por qué el resultado es un error? ¿Cómo lo corregirías?"
   ]
  },
  {
   "cell_type": "code",
   "execution_count": 45,
   "metadata": {},
   "outputs": [
    {
     "name": "stdout",
     "output_type": "stream",
     "text": [
      "Área del triangulo es: 25.0\n"
     ]
    }
   ],
   "source": [
    "base = 5\n",
    "altura = \"10\"\n",
    "area = base * float(altura) / 2 # Lo corrijo convirtiendo la cadena a número flotante\n",
    "print(f\"Área del triangulo es: {area}\")"
   ]
  },
  {
   "cell_type": "markdown",
   "metadata": {},
   "source": [
    "16) Crea un programa que calcule el promedio de tres calificaciones ingresadas por el usuario, y comprobar si el alumno aprobó o no (aprueba con nota mayor a 6)."
   ]
  },
  {
   "cell_type": "code",
   "execution_count": 47,
   "metadata": {},
   "outputs": [
    {
     "data": {
      "text/plain": [
       "'No aprobó'"
      ]
     },
     "execution_count": 47,
     "metadata": {},
     "output_type": "execute_result"
    }
   ],
   "source": [
    "calif_1 = float(input(\"Ingrese 1er calificación: \"))\n",
    "calif_2 = float(input(\"Ingrese 2da calificación: \"))\n",
    "calif_3 = float(input(\"Ingrese 3er calificación: \"))\n",
    "promedio = (calif_1 + calif_2 + calif_3) / 3\n",
    "print(\"Aprobó\") if promedio >= 6 else (\"No aprobó\")"
   ]
  },
  {
   "cell_type": "markdown",
   "metadata": {},
   "source": [
    "17) Pide al usuario su edad y calcula cuántos días, horas y minutos ha vivido aproximadamente (asumiendo 365 días por año)."
   ]
  },
  {
   "cell_type": "code",
   "execution_count": 48,
   "metadata": {},
   "outputs": [
    {
     "name": "stdout",
     "output_type": "stream",
     "text": [
      "Ha vivido aproximadamente 16425 días.\n",
      "Ha vivido aproximadamente 394200 horas.\n",
      "Ha vivido aproximadamente 23652000 minutos.\n"
     ]
    }
   ],
   "source": [
    "edad = int(input(\"Ingrese su edad: \"))\n",
    "\n",
    "dias_vividos = edad * 365\n",
    "horas_vividas = dias_vividos * 24\n",
    "minutos_vividos = horas_vividas * 60\n",
    "\n",
    "# Mostrar los resultados\n",
    "print(\"Ha vivido aproximadamente\", dias_vividos, \"días.\")\n",
    "print(\"Ha vivido aproximadamente\", horas_vividas, \"horas.\")\n",
    "print(\"Ha vivido aproximadamente\", minutos_vividos, \"minutos.\")\n"
   ]
  },
  {
   "cell_type": "markdown",
   "metadata": {},
   "source": [
    "18) Crea un programa que verifique si un número ingresado por el usuario es múltiplo de 4 y de 6 al mismo tiempo."
   ]
  },
  {
   "cell_type": "code",
   "execution_count": 51,
   "metadata": {},
   "outputs": [
    {
     "name": "stdout",
     "output_type": "stream",
     "text": [
      "El número ingresado no es múltiplo de 4 ni de 6\n"
     ]
    }
   ],
   "source": [
    "numero_5 = int(input(\"Ingrese un número: \"))\n",
    "print(\"El número ingresado es múltiplo de 4 y de 6\") if( numero_5 % 4 == 0 and numero_5 % 6 == 0) else print(\"El número ingresado no es múltiplo de 4 ni de 6\")"
   ]
  },
  {
   "cell_type": "markdown",
   "metadata": {},
   "source": [
    "19) "
   ]
  }
 ],
 "metadata": {
  "kernelspec": {
   "display_name": "Python 3",
   "language": "python",
   "name": "python3"
  },
  "language_info": {
   "codemirror_mode": {
    "name": "ipython",
    "version": 3
   },
   "file_extension": ".py",
   "mimetype": "text/x-python",
   "name": "python",
   "nbconvert_exporter": "python",
   "pygments_lexer": "ipython3",
   "version": "3.12.2"
  }
 },
 "nbformat": 4,
 "nbformat_minor": 2
}
